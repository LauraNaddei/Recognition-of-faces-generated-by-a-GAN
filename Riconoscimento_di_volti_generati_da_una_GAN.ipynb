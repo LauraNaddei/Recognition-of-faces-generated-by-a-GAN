{
  "nbformat": 4,
  "nbformat_minor": 0,
  "metadata": {
    "colab": {
      "provenance": []
    },
    "kernelspec": {
      "name": "python3",
      "display_name": "Python 3"
    },
    "language_info": {
      "name": "python"
    },
    "accelerator": "GPU"
  },
  "cells": [
    {
      "cell_type": "markdown",
      "metadata": {
        "id": "ffKLlFwFgoFM"
      },
      "source": [
        "#####Carichiamo il dataset:"
      ]
    },
    {
      "cell_type": "code",
      "metadata": {
        "colab": {
          "base_uri": "https://localhost:8080/"
        },
        "id": "Ca54PekRgjgx",
        "outputId": "458cea97-c6a8-4f79-b5f1-a92545803d53"
      },
      "source": [
        "!wget --user=corso --password=p2021corso http://www.grip.unina.it/download/corso/GANfacesDataset.zip\n",
        "!unzip -q -n GANfacesDataset.zip"
      ],
      "execution_count": null,
      "outputs": [
        {
          "output_type": "stream",
          "text": [
            "--2021-06-14 07:36:33--  http://www.grip.unina.it/download/corso/GANfacesDataset.zip\n",
            "Resolving www.grip.unina.it (www.grip.unina.it)... 143.225.28.237\n",
            "Connecting to www.grip.unina.it (www.grip.unina.it)|143.225.28.237|:80... connected.\n",
            "HTTP request sent, awaiting response... 401 Unauthorized\n",
            "Authentication selected: Basic realm=\"corso\"\n",
            "Reusing existing connection to www.grip.unina.it:80.\n",
            "HTTP request sent, awaiting response... 200 OK\n",
            "Length: 9367837920 (8.7G) [application/zip]\n",
            "Saving to: ‘GANfacesDataset.zip’\n",
            "\n",
            "GANfacesDataset.zip 100%[===================>]   8.72G  8.96MB/s    in 1h 49m  \n",
            "\n",
            "2021-06-14 09:25:55 (1.36 MB/s) - ‘GANfacesDataset.zip’ saved [9367837920/9367837920]\n",
            "\n"
          ],
          "name": "stdout"
        }
      ]
    },
    {
      "cell_type": "markdown",
      "metadata": {
        "id": "bwKbRenJhKTb"
      },
      "source": [
        "#####Escludiamo le immagini ProGAN: "
      ]
    },
    {
      "cell_type": "code",
      "metadata": {
        "id": "VCJjzh9bjBrl"
      },
      "source": [
        "import os \n",
        "import shutil "
      ],
      "execution_count": null,
      "outputs": []
    },
    {
      "cell_type": "code",
      "metadata": {
        "id": "IHGGRHCnhJ9l",
        "colab": {
          "base_uri": "https://localhost:8080/",
          "height": 35
        },
        "outputId": "3091dcdc-b073-454d-aceb-9967950d5e95"
      },
      "source": [
        "os.makedirs(\"ProGAN\") \n",
        "\n",
        "shutil.move(\"/content/GANfacesDataset/ProGAN256\",\"ProGAN\")"
      ],
      "execution_count": null,
      "outputs": [
        {
          "output_type": "execute_result",
          "data": {
            "application/vnd.google.colaboratory.intrinsic+json": {
              "type": "string"
            },
            "text/plain": [
              "'ProGAN/ProGAN256'"
            ]
          },
          "metadata": {
            "tags": []
          },
          "execution_count": 3
        }
      ]
    },
    {
      "cell_type": "markdown",
      "metadata": {
        "id": "2nYJXZ6yjOL_"
      },
      "source": [
        "#####Dividiamo il dataset in tre subset, considerando il 70% per il training, il 10% per la validazione e il 20% per il test. Per farlo, sfruttiamo le funzionalità del modulo \"splitfolders\". "
      ]
    },
    {
      "cell_type": "code",
      "metadata": {
        "id": "fUYA_sk-g1ls",
        "colab": {
          "base_uri": "https://localhost:8080/"
        },
        "outputId": "d3abd7ce-02ef-4863-f6f3-9d6177919937"
      },
      "source": [
        "!pip install split_folders\n",
        "\n",
        "import splitfolders"
      ],
      "execution_count": null,
      "outputs": [
        {
          "output_type": "stream",
          "text": [
            "Collecting split_folders\n",
            "  Downloading https://files.pythonhosted.org/packages/b8/5f/3c2b2f7ea5e047c8cdc3bb00ae582c5438fcdbbedcc23b3cc1c2c7aae642/split_folders-0.4.3-py3-none-any.whl\n",
            "Installing collected packages: split-folders\n",
            "Successfully installed split-folders-0.4.3\n"
          ],
          "name": "stdout"
        }
      ]
    },
    {
      "cell_type": "code",
      "metadata": {
        "id": "1gvyjvE3jKbE",
        "colab": {
          "base_uri": "https://localhost:8080/"
        },
        "outputId": "26607bae-dc61-4acb-a96d-591c601965a7"
      },
      "source": [
        "input_folder = \"GANfacesDataset\"\n",
        "output = \"GANDataset\"\n",
        "splitfolders.ratio(input_folder, output, ratio=(.7,.1,.2))"
      ],
      "execution_count": null,
      "outputs": [
        {
          "output_type": "stream",
          "text": [
            "Copying files: 12000 files [03:40, 54.31 files/s] \n"
          ],
          "name": "stderr"
        }
      ]
    },
    {
      "cell_type": "markdown",
      "metadata": {
        "id": "gn41nw8UkCfQ"
      },
      "source": [
        "#####Prepariamo i dati per la classificazione binaria, reale vs sintentico, usando le funzioni Keras ImageDataGenerator, insieme con il metodo flow_from_directory. Questo metodo prevede l'impiego di cartelle per validazione e addestramento. In ciascuna di esse, devono comparire tante sotto-cartelle, con le corrispondenti immagini, quante classi per la classificazione. \n"
      ]
    },
    {
      "cell_type": "code",
      "metadata": {
        "id": "izB8cSYakCKn",
        "colab": {
          "base_uri": "https://localhost:8080/",
          "height": 35
        },
        "outputId": "107e520f-b980-4237-e59f-a8b639526319"
      },
      "source": [
        "#TRAINING \n",
        "\n",
        "os.chdir(\"/content/GANDataset/train\")\n",
        "os.makedirs(\"vere\")\n",
        "os.makedirs(\"false\")\n",
        "\n",
        "shutil.move(\"pristine1024\",\"vere\")\n",
        "shutil.move(\"pristine256\",\"vere\")\n",
        "\n",
        "shutil.move(\"RelGAN256\",\"false\")\n",
        "shutil.move(\"StartGAN256\",\"false\")\n",
        "shutil.move(\"Style2GAN1024\",\"false\")\n",
        "shutil.move(\"StyleGAN1024\",\"false\")"
      ],
      "execution_count": null,
      "outputs": [
        {
          "output_type": "execute_result",
          "data": {
            "application/vnd.google.colaboratory.intrinsic+json": {
              "type": "string"
            },
            "text/plain": [
              "'false/StyleGAN1024'"
            ]
          },
          "metadata": {
            "tags": []
          },
          "execution_count": 6
        }
      ]
    },
    {
      "cell_type": "code",
      "metadata": {
        "id": "ukIB-uQDkspi",
        "colab": {
          "base_uri": "https://localhost:8080/",
          "height": 35
        },
        "outputId": "e6c9e297-c6ea-42e3-8d89-606b20dcffe0"
      },
      "source": [
        "#VALIDAZIONE\n",
        "\n",
        "os.chdir(\"/content/GANDataset/val\")\n",
        "os.makedirs(\"vere\")\n",
        "os.makedirs(\"false\")\n",
        "\n",
        "shutil.move(\"pristine1024\",\"vere\")\n",
        "shutil.move(\"pristine256\",\"vere\")\n",
        "\n",
        "shutil.move(\"RelGAN256\",\"false\")\n",
        "shutil.move(\"StartGAN256\",\"false\")\n",
        "shutil.move(\"Style2GAN1024\",\"false\")\n",
        "shutil.move(\"StyleGAN1024\",\"false\")"
      ],
      "execution_count": null,
      "outputs": [
        {
          "output_type": "execute_result",
          "data": {
            "application/vnd.google.colaboratory.intrinsic+json": {
              "type": "string"
            },
            "text/plain": [
              "'false/StyleGAN1024'"
            ]
          },
          "metadata": {
            "tags": []
          },
          "execution_count": 7
        }
      ]
    },
    {
      "cell_type": "code",
      "metadata": {
        "id": "ol6Rzxj_mDOg"
      },
      "source": [
        "#Importiamo i singoli moduli di interesse\n",
        "\n",
        "from tensorflow.keras.layers import Dense, GlobalAveragePooling2D, Dropout\n",
        "from tensorflow.keras.applications.resnet50 import preprocess_input, decode_predictions\n",
        "from tensorflow.keras.preprocessing.image import ImageDataGenerator, load_img\n",
        "from tensorflow.keras.applications.resnet50 import ResNet50\n",
        "from tensorflow.keras.preprocessing import image \n",
        "from tensorflow.keras.models import Sequential \n",
        "from tensorflow.keras.models import Model \n",
        "from tensorflow.keras.callbacks import LearningRateScheduler\n",
        "from tensorflow.keras.optimizers import Adam\n",
        "import matplotlib.pyplot as plt \n",
        "import numpy as np "
      ],
      "execution_count": null,
      "outputs": []
    },
    {
      "cell_type": "code",
      "metadata": {
        "id": "bCDjiyGkmVkP"
      },
      "source": [
        "img_height, img_width = (224,224) #dimensioni per le immagini in ingresso\n",
        "batch_size = 64                   #dimesione del batch\n",
        "\n",
        "train_data_dir = r\"/content/GANDataset/train/\" #percorso alla directory di training\n",
        "valid_data_dir = r\"/content/GANDataset/val/\"   #percorso alla directory di validation"
      ],
      "execution_count": null,
      "outputs": []
    },
    {
      "cell_type": "markdown",
      "metadata": {
        "id": "S8sfK6aCnR2F"
      },
      "source": [
        "#####Definiamo la funzione di preprocessamento per le immagini in ingresso alla rete, così realizziamo data-augmentation sui SOLI dati di training nella forma di un blurring gaussiano, rotazioni randomatiche di multipli interni di 90°  e con un ritaglio al centro di 224x224 pixel."
      ]
    },
    {
      "cell_type": "code",
      "metadata": {
        "id": "IXxDb6PJmgOy"
      },
      "source": [
        "import cv2          #per farlo impieghiamo le funzionalità offerte dal modulo cv2\n",
        "\n",
        "def crop_top(img):\n",
        "  M,N,P = img.shape\n",
        "  h = int(M/2) \n",
        "  k = int(N/2)\n",
        "  crop_img = img[h-112:h+112, k-112:k+112] \n",
        "  return crop_img\n",
        "\n",
        "def rotate(img):\n",
        "  rows,cols = img.shape[:2]\n",
        "  k = np.random.random_integers(low=1, high=4) #vogliamo rotazioni di multipli interi di 90° \n",
        "  M = cv2.getRotationMatrix2D((cols/2,rows/2),k*90,1) \n",
        "  dst = cv2.warpAffine(img,M,(cols,rows)) \n",
        "  return dst\n",
        "\n",
        "def blur(img):\n",
        "  img = crop_top(img)\n",
        "  img = rotate(img)\n",
        "  \n",
        "  i=np.random.uniform(0.0,3.0) #sigma varia in un intervallo di reali in maniera randomatica\n",
        "  k = np.random.randint(low=6*i+1)\n",
        "  if k%2==1:                                #se k è dispari, ok\n",
        "    y=cv2.GaussianBlur(img,(k,k),sigmaX=i)\n",
        "    return y\n",
        "  else:                                     #k è pari, allora rendo dispari le dimensione della finestra scorrevole. \n",
        "    y=cv2.GaussianBlur(img,(k+1,k+1),sigmaX=i)\n",
        "    return y\n"
      ],
      "execution_count": null,
      "outputs": []
    },
    {
      "cell_type": "code",
      "metadata": {
        "id": "W28BBmfvoHhN",
        "colab": {
          "base_uri": "https://localhost:8080/"
        },
        "outputId": "d56aa0b5-ac56-40fa-945e-a75271c37134"
      },
      "source": [
        "#Creiamo il generatore per il training: \n",
        "\n",
        "train_datagen = image.ImageDataGenerator(\n",
        "    rescale=1/255.0,                        #con questo parametro riportiamo le immagini nel range [0,1] (sono immagini a colori)\n",
        "    rotation_range=90,\n",
        "    preprocessing_function=blur)\n",
        "\n",
        "#train_datagen = image.ImageDataGenerator(\n",
        "#    rescale=1/255.0,                       \n",
        "#   rotation_range=90,\n",
        "#    zca_whitening=False,\n",
        "#    zca_epsilon=1e-06,\n",
        "#    shear_range=0.2, \n",
        "#    preprocessing_function=blur)          #si è tentati di irrobustire la fase di pre-processamento, distorcendo le immagini e rendendole più luminose, tuttavia non sono stati riscontrati miglioramenti significativi in termini di robustezza\n",
        "                                          \n",
        "train_generator = train_datagen.flow_from_directory(\n",
        "    train_data_dir, \n",
        "    target_size=(img_height, img_width),\n",
        "    batch_size=batch_size, \n",
        "    class_mode='categorical')                         #ovvero, rappresentazione one-hot: ogni etichetta rappresentata come un vettore di lunghezza pari al numero di classi"
      ],
      "execution_count": null,
      "outputs": [
        {
          "output_type": "stream",
          "text": [
            "Found 8400 images belonging to 2 classes.\n"
          ],
          "name": "stdout"
        }
      ]
    },
    {
      "cell_type": "code",
      "metadata": {
        "id": "RY9GMkqroTEf",
        "colab": {
          "base_uri": "https://localhost:8080/"
        },
        "outputId": "3436caaf-fa4a-4aa8-e695-8b49e3f38034"
      },
      "source": [
        "#Creiamo il generatore per la validazione:\n",
        "\n",
        "valid_datagen = image.ImageDataGenerator(\n",
        "    rescale=1/255.0,\n",
        "    preprocessing_function=crop_top)\n",
        "\n",
        "valid_generator = valid_datagen.flow_from_directory(\n",
        "    valid_data_dir, \n",
        "    target_size=(img_height, img_width),\n",
        "    batch_size=batch_size, \n",
        "    class_mode='categorical')"
      ],
      "execution_count": null,
      "outputs": [
        {
          "output_type": "stream",
          "text": [
            "Found 1200 images belonging to 2 classes.\n"
          ],
          "name": "stdout"
        }
      ]
    },
    {
      "cell_type": "code",
      "metadata": {
        "id": "d_iUKdNlpDWA"
      },
      "source": [
        "#Definiamo la funzione di scheduling per il learning rate: \n",
        "\n",
        "from math import exp\n",
        "\n",
        "def scheduler(epoch, lr):\n",
        "  if epoch < 2:             \n",
        "    return lr\n",
        "  else:                     # a partire dalla seconda epoca decrementiamo il lr di 1e-0.1\n",
        "    return lr * exp(-0.1)"
      ],
      "execution_count": null,
      "outputs": []
    },
    {
      "cell_type": "markdown",
      "metadata": {
        "id": "LjA4Dj75qqR1"
      },
      "source": [
        "#####Adoperiamo ResNet50 come modello base della nostra rete. Preaddestrata su ImageNet, ne escludiamo gli ultimi strati fully-connected (per poi sostituirli con 1-2 strati Dense, con cui particolarizziamo la backbone al nostro caso specifico) e ne \"congeliamo\" i primi 35. "
      ]
    },
    {
      "cell_type": "code",
      "metadata": {
        "id": "O6PgVp_2pTn3",
        "colab": {
          "base_uri": "https://localhost:8080/"
        },
        "outputId": "ab59e524-0e6d-41dd-f90d-54e87eda08a2"
      },
      "source": [
        "base_model= ResNet50(weights='imagenet', input_shape=(img_height, img_width, 3), include_top=False)\n",
        "\n",
        "model = Sequential()                      #costruiamo la rete sequenzialmente \n",
        "model.add(base_model) \n",
        "model.add(GlobalAveragePooling2D())\n",
        "#model.add(Dropout(0.2))\n",
        "#model.add(Dense(1024, activation='relu'))\n",
        "#model.add(Dropout(0.2)) #escludo random 5 input ad ogni ciclo di update.\n",
        "model.add(Dense(2, activation='softmax')) #vogliamo una distribuzione di probabilità =>softmax.\n",
        "\n",
        "model.summary()\n",
        "\n",
        "#abbiamo sperimentato inserendo strati di dropout tra i 2 dense e tra lo strato di pooling e il primo dense, non abbiamo, tuttavia, riscontrato cambiamenti \n",
        "#in positivo delle prestazioni"
      ],
      "execution_count": null,
      "outputs": [
        {
          "output_type": "stream",
          "text": [
            "Downloading data from https://storage.googleapis.com/tensorflow/keras-applications/resnet/resnet50_weights_tf_dim_ordering_tf_kernels_notop.h5\n",
            "94773248/94765736 [==============================] - 1s 0us/step\n",
            "Model: \"sequential\"\n",
            "_________________________________________________________________\n",
            "Layer (type)                 Output Shape              Param #   \n",
            "=================================================================\n",
            "resnet50 (Functional)        (None, 7, 7, 2048)        23587712  \n",
            "_________________________________________________________________\n",
            "global_average_pooling2d (Gl (None, 2048)              0         \n",
            "_________________________________________________________________\n",
            "dense (Dense)                (None, 2)                 4098      \n",
            "=================================================================\n",
            "Total params: 23,591,810\n",
            "Trainable params: 23,538,690\n",
            "Non-trainable params: 53,120\n",
            "_________________________________________________________________\n"
          ],
          "name": "stdout"
        }
      ]
    },
    {
      "cell_type": "code",
      "metadata": {
        "id": "y8IrmtajrnNQ"
      },
      "source": [
        "for layer in base_model.layers[:35]: #rendiamo non addestrabili i primi 35 strati della rete\n",
        "  layer.trainable = False"
      ],
      "execution_count": null,
      "outputs": []
    },
    {
      "cell_type": "markdown",
      "metadata": {
        "id": "QwEOSjAlr92M"
      },
      "source": [
        "#####Usiamo l'ottimizzatore Adam, nella sua variante AMSgrad in fase di compilazione e la categorical cross-entropy per la funzione di loss. "
      ]
    },
    {
      "cell_type": "code",
      "metadata": {
        "id": "jWr1LavhrwAL",
        "colab": {
          "base_uri": "https://localhost:8080/"
        },
        "outputId": "b9391138-607f-4878-efdf-b7ca22ebbe45"
      },
      "source": [
        "opt = Adam(learning_rate=2e-05, amsgrad=True) #provare anche con 3e-05\n",
        "model.compile(optimizer=opt, loss='categorical_crossentropy', metrics = ['accuracy', 'AUC'])\n",
        "round(model.optimizer.lr.numpy(), 5)"
      ],
      "execution_count": null,
      "outputs": [
        {
          "output_type": "execute_result",
          "data": {
            "text/plain": [
              "2e-05"
            ]
          },
          "metadata": {
            "tags": []
          },
          "execution_count": 16
        }
      ]
    },
    {
      "cell_type": "code",
      "metadata": {
        "id": "XMBpt-xUr60-",
        "colab": {
          "base_uri": "https://localhost:8080/"
        },
        "outputId": "6a07d0c0-3f68-4626-f61f-c14d2cc966dc"
      },
      "source": [
        "callback = LearningRateScheduler(scheduler, verbose=1)\n",
        "history = model.fit_generator(train_generator, epochs=12, verbose=1, callbacks=[callback], validation_data=valid_generator) #addestriamo\n",
        "round(model.optimizer.lr.numpy(), 5)"
      ],
      "execution_count": null,
      "outputs": [
        {
          "output_type": "stream",
          "text": [
            "/usr/local/lib/python3.7/dist-packages/tensorflow/python/keras/engine/training.py:1940: UserWarning: `Model.fit_generator` is deprecated and will be removed in a future version. Please use `Model.fit`, which supports generators.\n",
            "  warnings.warn('`Model.fit_generator` is deprecated and '\n",
            "/usr/local/lib/python3.7/dist-packages/ipykernel_launcher.py:12: DeprecationWarning: This function is deprecated. Please call randint(1, 4 + 1) instead\n",
            "  if sys.path[0] == '':\n"
          ],
          "name": "stderr"
        },
        {
          "output_type": "stream",
          "text": [
            "\n",
            "Epoch 00001: LearningRateScheduler reducing learning rate to 1.9999999494757503e-05.\n",
            "132/132 [==============================] - 412s 3s/step - loss: 0.6256 - accuracy: 0.6623 - auc: 0.7169 - val_loss: 0.6354 - val_accuracy: 0.6500 - val_auc: 0.6938\n"
          ],
          "name": "stdout"
        },
        {
          "output_type": "execute_result",
          "data": {
            "text/plain": [
              "2e-05"
            ]
          },
          "metadata": {
            "tags": []
          },
          "execution_count": 17
        }
      ]
    },
    {
      "cell_type": "markdown",
      "metadata": {
        "id": "_2QnwBGCsjzW"
      },
      "source": [
        "#####Riportiamo l'andamento delle metriche valutate: "
      ]
    },
    {
      "cell_type": "code",
      "metadata": {
        "id": "Uwm-olgssZe_",
        "colab": {
          "base_uri": "https://localhost:8080/",
          "height": 295
        },
        "outputId": "f2af6c67-5c30-41f7-b2d9-65aa1fd4a127"
      },
      "source": [
        "#ACCURACY: \n",
        "\n",
        "plt.plot(history.history['accuracy'])\n",
        "plt.plot(history.history['val_accuracy'])\n",
        "plt.title('model accuracy')\n",
        "plt.ylabel('accuracy')\n",
        "plt.xlabel('epoch')\n",
        "plt.legend(['train', 'val'], loc='upper left')\n",
        "plt.show()"
      ],
      "execution_count": null,
      "outputs": [
        {
          "output_type": "display_data",
          "data": {
            "image/png": "[encoded data removed]",
            "text/plain": [
              "<Figure size 432x288 with 1 Axes>"
            ]
          },
          "metadata": {
            "tags": [],
            "needs_background": "light"
          }
        }
      ]
    },
    {
      "cell_type": "code",
      "metadata": {
        "id": "VZuGa6glsxe-",
        "colab": {
          "base_uri": "https://localhost:8080/",
          "height": 295
        },
        "outputId": "3681cc24-895e-40e4-c7b0-c769b306bdd0"
      },
      "source": [
        "#AREA UNDER ROC CURVE: \n",
        "\n",
        "plt.plot(history.history['auc'])\n",
        "plt.plot(history.history['val_auc'])\n",
        "plt.title('model auc')\n",
        "plt.ylabel('auc')\n",
        "plt.xlabel('epoch')\n",
        "plt.legend(['train', 'val'], loc='upper left')\n",
        "plt.show()"
      ],
      "execution_count": null,
      "outputs": [
        {
          "output_type": "display_data",
          "data": {
            "image/png": "[encoded data removed]",
            "text/plain": [
              "<Figure size 432x288 with 1 Axes>"
            ]
          },
          "metadata": {
            "tags": [],
            "needs_background": "light"
          }
        }
      ]
    },
    {
      "cell_type": "code",
      "metadata": {
        "id": "XKyvbfDks2Yy",
        "colab": {
          "base_uri": "https://localhost:8080/",
          "height": 295
        },
        "outputId": "4fd10812-8d5c-4a62-bee4-59a6dac69c00"
      },
      "source": [
        "#LOSS FUNCTION: \n",
        "\n",
        "plt.plot(history.history['loss'])\n",
        "plt.plot(history.history['val_loss'])\n",
        "plt.title('model loss')\n",
        "plt.ylabel('loss')\n",
        "plt.xlabel('epoch')\n",
        "plt.legend(['train', 'val'], loc='upper left')\n",
        "plt.show()"
      ],
      "execution_count": null,
      "outputs": [
        {
          "output_type": "display_data",
          "data": {
            "image/png": "[encoded data removed]",
            "text/plain": [
              "<Figure size 432x288 with 1 Axes>"
            ]
          },
          "metadata": {
            "tags": [],
            "needs_background": "light"
          }
        }
      ]
    },
    {
      "cell_type": "markdown",
      "metadata": {
        "id": "XmYFXu7atSi6"
      },
      "source": [
        "#####FASE DI TEST: "
      ]
    },
    {
      "cell_type": "code",
      "metadata": {
        "id": "_k_uL4B4tSMV"
      },
      "source": [
        "os.chdir(\"/content/GANDataset/test\")\n",
        "os.makedirs(\"pauso\")\n",
        "os.makedirs(\"vere\")\n",
        "os.makedirs(\"false\")"
      ],
      "execution_count": null,
      "outputs": []
    },
    {
      "cell_type": "code",
      "metadata": {
        "id": "fL7_ktqWt0SM",
        "colab": {
          "base_uri": "https://localhost:8080/",
          "height": 35
        },
        "outputId": "132cbb24-c389-4d0b-c6ab-5ae44e1286ec"
      },
      "source": [
        "#Per una prima fase di test su RelGAN256:\n",
        "\n",
        "shutil.move(\"pristine1024\",\"vere\")\n",
        "shutil.move(\"pristine256\",\"vere\")\n",
        "\n",
        "shutil.move(\"StartGAN256\",\"pauso\")\n",
        "shutil.move(\"Style2GAN1024\",\"pauso\")\n",
        "shutil.move(\"StyleGAN1024\",\"pauso\")\n",
        "\n",
        "shutil.move(\"RelGAN256\",\"false\")\n",
        "\n",
        "shutil.move(\"pauso\", \"/content\")"
      ],
      "execution_count": null,
      "outputs": [
        {
          "output_type": "execute_result",
          "data": {
            "application/vnd.google.colaboratory.intrinsic+json": {
              "type": "string"
            },
            "text/plain": [
              "'/content/pauso'"
            ]
          },
          "metadata": {
            "tags": []
          },
          "execution_count": 22
        }
      ]
    },
    {
      "cell_type": "code",
      "metadata": {
        "id": "zA9N7tAzujm7"
      },
      "source": [
        "test_data_dir = r\"/content/GANDataset/test\"    #percorso alla directory di test"
      ],
      "execution_count": null,
      "outputs": []
    },
    {
      "cell_type": "code",
      "metadata": {
        "id": "Ii4c1sK3tNA3",
        "colab": {
          "base_uri": "https://localhost:8080/"
        },
        "outputId": "c12d9a1e-2ca2-465f-b3ee-01c9f182f4e3"
      },
      "source": [
        "#Creiamo il generatore per il test: \n",
        "\n",
        "test_datagen = image.ImageDataGenerator(\n",
        "    rescale=1/255.0,\n",
        "    preprocessing_function=crop_top)\n",
        "\n",
        "test_generator = test_datagen.flow_from_directory(\n",
        "    test_data_dir,\n",
        "    target_size=(img_height,img_width),\n",
        "    batch_size=batch_size,\n",
        "    class_mode='categorical')"
      ],
      "execution_count": null,
      "outputs": [
        {
          "output_type": "stream",
          "text": [
            "Found 1200 images belonging to 2 classes.\n"
          ],
          "name": "stdout"
        }
      ]
    },
    {
      "cell_type": "code",
      "metadata": {
        "id": "9FB7b2DVtAyH",
        "colab": {
          "base_uri": "https://localhost:8080/"
        },
        "outputId": "ed4d953b-c3c1-4793-ac55-138cd46a0fbf"
      },
      "source": [
        "#Predizione e valutazione delle metriche: \n",
        "\n",
        "predictions = model.predict(test_generator,verbose=1)\n",
        "test_loss, test_acc, test_auc = model.evaluate(test_generator, verbose=1)\n",
        "print('\\nTest accuracy: {}, \\nArea under curve: {} '.format(test_acc, test_auc))"
      ],
      "execution_count": null,
      "outputs": [
        {
          "output_type": "stream",
          "text": [
            "19/19 [==============================] - 25s 1s/step\n",
            "19/19 [==============================] - 22s 1s/step - loss: 0.8392 - accuracy: 0.3792 - auc: 0.3632\n",
            "\n",
            "Test accuracy: 0.3791666626930237, \n",
            "Area under curve: 0.363243043422699 \n"
          ],
          "name": "stdout"
        }
      ]
    },
    {
      "cell_type": "markdown",
      "metadata": {
        "id": "VoHi9IwwvlvR"
      },
      "source": [
        "#####Seconda GAN."
      ]
    },
    {
      "cell_type": "code",
      "metadata": {
        "id": "AjnAEnP5u_CH",
        "colab": {
          "base_uri": "https://localhost:8080/",
          "height": 35
        },
        "outputId": "0246a051-e1ef-41d4-87b4-6cfb1b103d6d"
      },
      "source": [
        "#Fase di test sulle StartGAN256:\n",
        "\n",
        "os.chdir(\"/content/pauso\")\n",
        "shutil.move(\"StartGAN256\",\"/content/GANDataset/test/false\")\n",
        "\n",
        "os.chdir(\"/content/GANDataset/test/false\")\n",
        "shutil.move(\"RelGAN256\",\"/content/pauso\")"
      ],
      "execution_count": null,
      "outputs": [
        {
          "output_type": "execute_result",
          "data": {
            "application/vnd.google.colaboratory.intrinsic+json": {
              "type": "string"
            },
            "text/plain": [
              "'/content/pauso/RelGAN256'"
            ]
          },
          "metadata": {
            "tags": []
          },
          "execution_count": 26
        }
      ]
    },
    {
      "cell_type": "code",
      "metadata": {
        "id": "07vHkJOqvafN"
      },
      "source": [
        "test_data_dir = r\"/content/GANDataset/test\"    #percorso alla directory di test"
      ],
      "execution_count": null,
      "outputs": []
    },
    {
      "cell_type": "code",
      "metadata": {
        "id": "peAOKNcgvf2n",
        "colab": {
          "base_uri": "https://localhost:8080/"
        },
        "outputId": "e5d86dac-8bf2-4847-bd35-3f4c617acac7"
      },
      "source": [
        "#Creiamo il generatore per il test: \n",
        "\n",
        "test_datagen = image.ImageDataGenerator(\n",
        "    rescale=1/255.0,\n",
        "    preprocessing_function=crop_top)\n",
        "\n",
        "test_generator = test_datagen.flow_from_directory(\n",
        "    test_data_dir,\n",
        "    target_size=(img_height,img_width),\n",
        "    batch_size=batch_size,\n",
        "    class_mode='categorical')"
      ],
      "execution_count": null,
      "outputs": [
        {
          "output_type": "stream",
          "text": [
            "Found 1200 images belonging to 2 classes.\n"
          ],
          "name": "stdout"
        }
      ]
    },
    {
      "cell_type": "code",
      "metadata": {
        "id": "dgjMw7HLvjH1",
        "colab": {
          "base_uri": "https://localhost:8080/"
        },
        "outputId": "31c0ed67-2323-41cd-bb2c-e5dd07050dd5"
      },
      "source": [
        "#Predizione e valutazione delle metriche: \n",
        "\n",
        "predictions = model.predict(test_generator,verbose=1)\n",
        "test_loss, test_acc, test_auc = model.evaluate(test_generator, verbose=1)\n",
        "print('\\nTest accuracy: {}, \\nArea under curve: {} '.format(test_acc, test_auc))"
      ],
      "execution_count": null,
      "outputs": [
        {
          "output_type": "stream",
          "text": [
            "19/19 [==============================] - 22s 1s/step\n",
            "19/19 [==============================] - 22s 1s/step - loss: 0.8155 - accuracy: 0.3950 - auc: 0.4289\n",
            "\n",
            "Test accuracy: 0.39500001072883606, \n",
            "Area under curve: 0.42892777919769287 \n"
          ],
          "name": "stdout"
        }
      ]
    },
    {
      "cell_type": "markdown",
      "metadata": {
        "id": "Vpfiduf5wAHP"
      },
      "source": [
        "#####Terza GAN."
      ]
    },
    {
      "cell_type": "code",
      "metadata": {
        "id": "-7HUWqHDweER",
        "colab": {
          "base_uri": "https://localhost:8080/",
          "height": 35
        },
        "outputId": "bf6627f6-a86e-405b-d3d2-e647636a784c"
      },
      "source": [
        "#Fase di test sulle StyleGAN1024:\n",
        "\n",
        "os.chdir(\"/content/pauso\")\n",
        "shutil.move(\"StyleGAN1024\",\"/content/GANDataset/test/false\")\n",
        "\n",
        "os.chdir(\"/content/GANDataset/test/false\")\n",
        "shutil.move(\"StartGAN256\",\"/content/pauso\")"
      ],
      "execution_count": null,
      "outputs": [
        {
          "output_type": "execute_result",
          "data": {
            "application/vnd.google.colaboratory.intrinsic+json": {
              "type": "string"
            },
            "text/plain": [
              "'/content/pauso/StartGAN256'"
            ]
          },
          "metadata": {
            "tags": []
          },
          "execution_count": 30
        }
      ]
    },
    {
      "cell_type": "code",
      "metadata": {
        "id": "96xWO-8HwwZS"
      },
      "source": [
        "test_data_dir = r\"/content/GANDataset/test\"    #percorso alla directory di test"
      ],
      "execution_count": null,
      "outputs": []
    },
    {
      "cell_type": "code",
      "metadata": {
        "id": "8ozVwr_UwxFh",
        "colab": {
          "base_uri": "https://localhost:8080/"
        },
        "outputId": "fb7fe5fc-5e08-4fd8-ff90-796f7ab5eb01"
      },
      "source": [
        "#Creiamo il generatore per il test: \n",
        "\n",
        "test_datagen = image.ImageDataGenerator(\n",
        "    rescale=1/255.0,\n",
        "    preprocessing_function=crop_top)\n",
        "\n",
        "test_generator = test_datagen.flow_from_directory(\n",
        "    test_data_dir,\n",
        "    target_size=(img_height,img_width),\n",
        "    batch_size=batch_size,\n",
        "    class_mode='categorical')"
      ],
      "execution_count": null,
      "outputs": [
        {
          "output_type": "stream",
          "text": [
            "Found 1200 images belonging to 2 classes.\n"
          ],
          "name": "stdout"
        }
      ]
    },
    {
      "cell_type": "code",
      "metadata": {
        "id": "ydhXR4pLw1Qq",
        "colab": {
          "base_uri": "https://localhost:8080/"
        },
        "outputId": "d5f49f47-70ab-4fe0-a13c-f3153248c8ac"
      },
      "source": [
        "#Predizione e valutazione delle metriche: \n",
        "\n",
        "predictions = model.predict(test_generator,verbose=1)\n",
        "test_loss, test_acc, test_auc = model.evaluate(test_generator, verbose=1)\n",
        "print('\\nTest accuracy: {}, \\nArea under curve: {} '.format(test_acc, test_auc))"
      ],
      "execution_count": null,
      "outputs": [
        {
          "output_type": "stream",
          "text": [
            "19/19 [==============================] - 42s 2s/step\n",
            "19/19 [==============================] - 40s 2s/step - loss: 0.8596 - accuracy: 0.3417 - auc: 0.3266\n",
            "\n",
            "Test accuracy: 0.34166666865348816, \n",
            "Area under curve: 0.3266322910785675 \n"
          ],
          "name": "stdout"
        }
      ]
    },
    {
      "cell_type": "markdown",
      "metadata": {
        "id": "e35-lDfKw3oj"
      },
      "source": [
        "#####Quarta GAN: "
      ]
    },
    {
      "cell_type": "code",
      "metadata": {
        "id": "rTxJKT1wxBeA",
        "colab": {
          "base_uri": "https://localhost:8080/",
          "height": 35
        },
        "outputId": "cdf67b7a-0d8e-4bd5-ec68-8c75f492d3bd"
      },
      "source": [
        "#Fase di test sulle Style2GAN1024:\n",
        "\n",
        "os.chdir(\"/content/pauso\")\n",
        "shutil.move(\"Style2GAN1024\",\"/content/GANDataset/test/false\")\n",
        "\n",
        "os.chdir(\"/content/GANDataset/test/false\")\n",
        "shutil.move(\"StyleGAN1024\",\"/content/pauso\")"
      ],
      "execution_count": null,
      "outputs": [
        {
          "output_type": "execute_result",
          "data": {
            "application/vnd.google.colaboratory.intrinsic+json": {
              "type": "string"
            },
            "text/plain": [
              "'/content/pauso/StyleGAN1024'"
            ]
          },
          "metadata": {
            "tags": []
          },
          "execution_count": 34
        }
      ]
    },
    {
      "cell_type": "code",
      "metadata": {
        "id": "ohyd37O2w-H0"
      },
      "source": [
        "test_data_dir = r\"/content/GANDataset/test\" "
      ],
      "execution_count": null,
      "outputs": []
    },
    {
      "cell_type": "code",
      "metadata": {
        "id": "bJSTyKPVw7c2",
        "colab": {
          "base_uri": "https://localhost:8080/"
        },
        "outputId": "bfde15e6-0a95-4140-80ac-5d2abacb94ca"
      },
      "source": [
        "#Creiamo il generatore per il test: \n",
        "\n",
        "test_datagen = image.ImageDataGenerator(\n",
        "    rescale=1/255.0,\n",
        "    preprocessing_function=crop_top)\n",
        "\n",
        "test_generator = test_datagen.flow_from_directory(\n",
        "    test_data_dir,\n",
        "    target_size=(img_height,img_width),\n",
        "    batch_size=batch_size,\n",
        "    class_mode='categorical')"
      ],
      "execution_count": null,
      "outputs": [
        {
          "output_type": "stream",
          "text": [
            "Found 1200 images belonging to 2 classes.\n"
          ],
          "name": "stdout"
        }
      ]
    },
    {
      "cell_type": "code",
      "metadata": {
        "id": "WCIp0aWyw6l_",
        "colab": {
          "base_uri": "https://localhost:8080/"
        },
        "outputId": "6bc3ae40-59a0-4b5f-c6fe-00a15d80ed0d"
      },
      "source": [
        "#Predizione e valutazione delle metriche: \n",
        "\n",
        "predictions = model.predict(test_generator,verbose=1)\n",
        "test_loss, test_acc, test_auc = model.evaluate(test_generator, verbose=1)\n",
        "print('\\nTest accuracy: {}, \\nArea under curve: {} '.format(test_acc, test_auc))"
      ],
      "execution_count": null,
      "outputs": [
        {
          "output_type": "stream",
          "text": [
            "19/19 [==============================] - 41s 2s/step\n",
            "19/19 [==============================] - 40s 2s/step - loss: 0.8257 - accuracy: 0.3892 - auc: 0.3993\n",
            "\n",
            "Test accuracy: 0.3891666531562805, \n",
            "Area under curve: 0.3993357717990875 \n"
          ],
          "name": "stdout"
        }
      ]
    },
    {
      "cell_type": "markdown",
      "metadata": {
        "id": "wQVMCsb3xJG0"
      },
      "source": [
        "#####Analisi di robustezza: "
      ]
    },
    {
      "cell_type": "code",
      "metadata": {
        "id": "Z4I0nqYMxPYC",
        "colab": {
          "base_uri": "https://localhost:8080/",
          "height": 35
        },
        "outputId": "e33b8ad5-03f4-4996-c789-b7f232fe3d3c"
      },
      "source": [
        "#Fase di test sulle ProGAN256:\n",
        "\n",
        "os.chdir(\"/content\")\n",
        "shutil.move(\"ProGAN\",\"/content/GANDataset/test/false\")\n",
        "\n",
        "os.chdir(\"/content/GANDataset/test/false\")\n",
        "shutil.move(\"Style2GAN1024\",\"/content/pauso\")"
      ],
      "execution_count": null,
      "outputs": [
        {
          "output_type": "execute_result",
          "data": {
            "application/vnd.google.colaboratory.intrinsic+json": {
              "type": "string"
            },
            "text/plain": [
              "'/content/pauso/Style2GAN1024'"
            ]
          },
          "metadata": {
            "tags": []
          },
          "execution_count": 38
        }
      ]
    },
    {
      "cell_type": "code",
      "metadata": {
        "id": "mHuM-HW0xT_y"
      },
      "source": [
        "test_data_dir = r\"/content/GANDataset/test\" "
      ],
      "execution_count": null,
      "outputs": []
    },
    {
      "cell_type": "code",
      "metadata": {
        "id": "wYx3Lq8lxNjZ",
        "colab": {
          "base_uri": "https://localhost:8080/"
        },
        "outputId": "abc961ad-3834-4555-bb34-10fae3c96032"
      },
      "source": [
        "#Creiamo il generatore per il test: \n",
        "\n",
        "test_datagen = image.ImageDataGenerator(\n",
        "    rescale=1/255.0,\n",
        "    preprocessing_function=crop_top)\n",
        "\n",
        "test_generator = test_datagen.flow_from_directory(\n",
        "    test_data_dir,\n",
        "    target_size=(img_height,img_width),\n",
        "    batch_size=batch_size,\n",
        "    class_mode='categorical')"
      ],
      "execution_count": null,
      "outputs": [
        {
          "output_type": "stream",
          "text": [
            "Found 2800 images belonging to 2 classes.\n"
          ],
          "name": "stdout"
        }
      ]
    },
    {
      "cell_type": "code",
      "metadata": {
        "id": "sBPiKrITxImI",
        "colab": {
          "base_uri": "https://localhost:8080/"
        },
        "outputId": "4cb50099-1659-487d-a52a-1a02adc592c0"
      },
      "source": [
        "#Predizione e valutazione delle metriche: \n",
        "\n",
        "predictions = model.predict(test_generator,verbose=1)\n",
        "test_loss, test_acc, test_auc = model.evaluate(test_generator, verbose=1)\n",
        "print('\\nTest accuracy: {}, \\nArea under curve: {} '.format(test_acc, test_auc))"
      ],
      "execution_count": null,
      "outputs": [
        {
          "output_type": "stream",
          "text": [
            "44/44 [==============================] - 29s 659ms/step\n",
            "44/44 [==============================] - 28s 640ms/step - loss: 0.6699 - accuracy: 0.6418 - auc: 0.6415\n",
            "\n",
            "Test accuracy: 0.641785740852356, \n",
            "Area under curve: 0.6415109038352966 \n"
          ],
          "name": "stdout"
        }
      ]
    },
    {
      "cell_type": "markdown",
      "metadata": {
        "id": "udpdTyvVtlf_"
      },
      "source": [
        "#####Codice per la fase di test \"in the wild\": "
      ]
    },
    {
      "cell_type": "code",
      "metadata": {
        "id": "hYHBeDqatpfV"
      },
      "source": [
        "img = image.load_img('filename.png', target_size = (img_width, img_height)) #in luogo di filename inserire il nome di un'immagine preventivamente caricata in colab\n",
        "img = image.img_to_array(img) #convertiamo l'immagine in un numpy array \n",
        "img = np.expand_dims(img, axis = 0) #si espandono le dimensioni dell'array nella direzione orizzonatale\n",
        "\n",
        "y_pred = model.predict(img)\n",
        "\n",
        "plt.figure()\n",
        "plt.bar(np.arange(2), y_pred[0])\n",
        "plt.show()"
      ],
      "execution_count": null,
      "outputs": []
    }
  ]
}